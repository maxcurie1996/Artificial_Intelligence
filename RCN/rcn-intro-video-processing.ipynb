{
 "cells": [
  {
   "cell_type": "code",
   "execution_count": 4,
   "id": "earned-steel",
   "metadata": {},
   "outputs": [],
   "source": [
    "import numpy as np\n",
    "from tqdm import tqdm\n",
    "import matplotlib.pyplot as plt\n",
    "from matplotlib import ticker\n",
    "from matplotlib import patches\n",
    "import time\n",
    "import scipy\n",
    "\n",
    "if scipy.__version__=='0.9.0' or scipy.__version__=='0.10.1':\n",
    "    from scipy.sparse.linalg import eigs as Eigens\n",
    "else:\n",
    "    from scipy.sparse.linalg.eigen.arpack import eigs as Eigens"
   ]
  },
  {
   "cell_type": "markdown",
   "id": "flying-mystery",
   "metadata": {},
   "source": [
    "### Function to read the data"
   ]
  },
  {
   "cell_type": "code",
   "execution_count": null,
   "id": "tested-crossing",
   "metadata": {},
   "outputs": [],
   "source": [
    "def read_file(fname,Nfr=-1):\n",
    "    tmp= open(fname+'.txt', 'rb');a=tmp.read();tmp.close();T=len(a) # Just to know how many frames (T) are there in the file\n",
    "    if Nfr!=-1:\n",
    "        T=np.min((T,Nfr))\n",
    "    dim=[30,30] # Dimension of each frame\n",
    "    N_fr=dim[0]*dim[1] # size of the input vector\n",
    "    yuvfile= open(fname+'.yuv', 'rb') # Opening the video file\n",
    "    door_state_file= open(fname+'.txt', 'rb') # Opening the annotation file\n",
    "    TARGET=np.zeros((T,3))\n",
    "    FRAMES=np.zeros((T,N_fr))\n",
    "    for t in tqdm(range(T)): # for each frame    \n",
    "        fr2=np.zeros(N_fr) \n",
    "        frame = yuvfile.read(N_fr)\n",
    "        for i in range(N_fr):\n",
    "            fr2[i]=frame[i]\n",
    "        # ----------------------------------    \n",
    "        fr2=fr2/255.0 # Normalizing the pixel values to [0,1]\n",
    "        FRAMES[t,:]=fr2\n",
    "        TARGET[t,int(door_state_file.read(1))] = 1 # setting the desired output class to 1\n",
    "    \n",
    "    return np.array_split(FRAMES, 100),np.array_split(TARGET, 100)"
   ]
  },
  {
   "cell_type": "markdown",
   "id": "voluntary-syria",
   "metadata": {},
   "source": [
    "### Linear Regression (Ridge regression) https://en.wikipedia.org/wiki/Ridge_regression "
   ]
  },
  {
   "cell_type": "code",
   "execution_count": null,
   "id": "about-brass",
   "metadata": {},
   "outputs": [],
   "source": [
    "def linreg (xTx,xTy,xlen,regu=0.001):\n",
    "    lmda = regu**2 * xlen # regularization parameter\n",
    "    inv_xTx = np.linalg.inv(xTx + lmda * np.eye(xTx.shape[0]))\n",
    "    beta = np.dot(inv_xTx, xTy)\n",
    "    return beta"
   ]
  },
  {
   "cell_type": "markdown",
   "id": "korean-titanium",
   "metadata": {},
   "source": [
    "### Random weight initialization "
   ]
  },
  {
   "cell_type": "code",
   "execution_count": null,
   "id": "greater-queen",
   "metadata": {},
   "outputs": [],
   "source": [
    "def init_weights(input_dim,res_size,K_in, K_rec,insca,spra,bisca):\n",
    "    #---------- Initializing W_in ---------\n",
    "    if K_in == -1:\n",
    "        W_in = insca * (np.random.rand(res_size, input_dim) * 2 - 1)\n",
    "    else:\n",
    "        Ico=0\n",
    "        nrentries = np.int32(res_size*K_in)\n",
    "        ij = np.zeros((2,nrentries))\n",
    "        datavec =  insca * (np.random.rand(nrentries)* 2 - 1)\n",
    "        for en in range(res_size):\n",
    "            Per=np.random.permutation(input_dim)[:K_in]\n",
    "            ij[0][Ico:Ico+K_in]=en\n",
    "            ij[1][Ico:Ico+K_in]=Per\n",
    "            Ico+=K_in\n",
    "        W_in = scipy.sparse.csc_matrix((datavec, np.int_(ij)),dtype='float64')\n",
    "        if K_in > input_dim/2:\n",
    "            W_in=W_in.todense()\n",
    "        \n",
    "\n",
    "    #---------- Initializing W_res ---------\n",
    "    converged = False\n",
    "    attempts = 50\n",
    "    while not converged and attempts > 0:  \n",
    "        if K_rec == -1:\n",
    "            W_res = np.random.randn(res_size, res_size)\n",
    "        else:\n",
    "            Ico=0\n",
    "            nrentries = np.int32(res_size*K_rec)\n",
    "            ij = np.zeros((2,nrentries))\n",
    "            datavec =  np.random.randn(nrentries)\n",
    "            for en in range(res_size):\n",
    "                Per=np.random.permutation(res_size)[:K_rec]\n",
    "                ij[0][Ico:Ico+K_rec]=en\n",
    "                ij[1][Ico:Ico+K_rec]=Per\n",
    "                Ico+=K_rec\n",
    "            W_res = scipy.sparse.csc_matrix((datavec, np.int_(ij)),dtype='float64')\n",
    "            if K_rec > res_size/2:\n",
    "                W_res=W_res.todense()\n",
    "        try:\n",
    "            we =  Eigens(W_res,return_eigenvectors=False,k=6)\n",
    "            converged = True\n",
    "        except:\n",
    "            print (\"WARNING: No convergence! Redo %i times ... \" % (attempts-1))\n",
    "            attempts -=1\n",
    "            pass\n",
    "\n",
    "    W_res *= (spra / np.amax(np.absolute(we)))\n",
    "    #---------- Initializing W_bi ---------\n",
    "    W_bi = bisca * (np.random.rand(res_size) * 2 - 1)\n",
    "    \n",
    "    return W_in,W_res,W_bi"
   ]
  },
  {
   "cell_type": "markdown",
   "id": "armed-viking",
   "metadata": {},
   "source": [
    "### Reservoir execution (online)"
   ]
  },
  {
   "cell_type": "code",
   "execution_count": 241,
   "id": "north-procurement",
   "metadata": {},
   "outputs": [],
   "source": [
    "def rcn_infer(w_in,w_res,w_bi,w_out,leak,r_prev,u):\n",
    "    if scipy.sparse.issparse(w_in): # applying input weights to the input. Sparse and dense matrix multiplication is different in Python \n",
    "        a1 = w_in * u \n",
    "    else:\n",
    "        a1=np.dot(w_in, u)\n",
    "    a2 = w_res * r_prev # applying recurrent weights to the previous reservoir states\n",
    "    r_now = np.tanh(a1 + a2 + w_bi) # adding bias and applying activation function\n",
    "    r_now = (1 - leak) * r_prev + leak * r_now # applying leak rate\n",
    "    y = np.dot(np.append([1],r_now),w_out) # applying the output weight\n",
    "    return r_now,y"
   ]
  },
  {
   "cell_type": "markdown",
   "id": "institutional-radio",
   "metadata": {},
   "source": [
    "### Reservoir execution (offline)"
   ]
  },
  {
   "cell_type": "code",
   "execution_count": null,
   "id": "plastic-poetry",
   "metadata": {},
   "outputs": [],
   "source": [
    "def res_exe(W_in,W_res,W_bi,leak,U): \n",
    "    T=U.shape[0] # size of the input vector\n",
    "    nres=W_res.shape[0] # Getting the size of the network (= 100)\n",
    "    R=np.zeros((T+1,nres),dtype='float64') # Initializing the RCN output matrix (one extra frame for the warming up)\n",
    "    for t in range(T): # for each frame\n",
    "        if scipy.sparse.issparse(W_in):\n",
    "            a=W_in*U[t,:]\n",
    "        else:\n",
    "            a=np.dot(W_in,U[t,:])\n",
    "        \n",
    "        if scipy.sparse.issparse(W_res):\n",
    "            b=W_res*R[t,:]\n",
    "        else:\n",
    "            b=np.dot(W_res,R[t,:])\n",
    "        R[t+1,:] = np.tanh(a+b+W_bi)\n",
    "        R[t+1,:] = (1-leak)*R[t,:] + leak*R[t+1,:]\n",
    "    R=np.concatenate((np.ones((R.shape[0],1)),R),1)    \n",
    "    return R[1:,:] # returns the reservoir output and the desired output"
   ]
  },
  {
   "cell_type": "markdown",
   "id": "turkish-crest",
   "metadata": {},
   "source": [
    "### Load the data"
   ]
  },
  {
   "cell_type": "code",
   "execution_count": 6,
   "id": "interim-growth",
   "metadata": {},
   "outputs": [
    {
     "name": "stderr",
     "output_type": "stream",
     "text": [
      "100%|██████████| 251654/251654 [00:31<00:00, 7887.92it/s]\n",
      "100%|██████████| 10000/10000 [00:01<00:00, 7715.53it/s]\n"
     ]
    }
   ],
   "source": [
    "X,y = read_file('/scratch/gpfs/aj17/datasets/Little_Sister/dataset/Seq_1')\n",
    "X_test,y_test = read_file('/scratch/gpfs/aj17/datasets/Little_Sister/dataset/Seq_2',10000)"
   ]
  },
  {
   "cell_type": "code",
   "execution_count": 7,
   "id": "civic-thickness",
   "metadata": {},
   "outputs": [],
   "source": [
    "X_train,y_train=X[:80],y[:80]\n",
    "X_valid,y_valid=X[80:],y[80:]"
   ]
  },
  {
   "cell_type": "code",
   "execution_count": 237,
   "id": "lovely-field",
   "metadata": {},
   "outputs": [
    {
     "data": {
      "image/png": "[encoded data removed]",
      "text/plain": [
       "<Figure size 1080x360 with 3 Axes>"
      ]
     },
     "metadata": {
      "needs_background": "light"
     },
     "output_type": "display_data"
    }
   ],
   "source": [
    "num_row = 1\n",
    "num_col = 3  # plot images\n",
    "fig, axes = plt.subplots(num_row, num_col, sharex='all', sharey='all',\n",
    "                         figsize=(15, 5))\n",
    "idx = (0, 50, 2000)\n",
    "for k in range(3):\n",
    "    ax = axes[k]\n",
    "    im = ax.imshow(X_train[8][idx[k], :].reshape(30, 30), cmap='gray')\n",
    "    ax.set(xlabel='Label: %s' % (str(np.argmax(y_train[8][idx[k]]))))\n",
    "    ax.grid(False)\n"
   ]
  },
  {
   "cell_type": "markdown",
   "id": "intended-pennsylvania",
   "metadata": {},
   "source": [
    "### Solve the problem using Linear Regression"
   ]
  },
  {
   "cell_type": "markdown",
   "id": "operational-hours",
   "metadata": {},
   "source": [
    "#### Collect xTx and xTy"
   ]
  },
  {
   "cell_type": "code",
   "execution_count": 242,
   "id": "billion-tunnel",
   "metadata": {},
   "outputs": [
    {
     "name": "stderr",
     "output_type": "stream",
     "text": [
      "Train...: 80it [00:01, 53.56it/s]\n"
     ]
    }
   ],
   "source": [
    "input_dim = X_train[0].shape[1]\n",
    "output_dim = y_train[0].shape[1]\n",
    "\n",
    "t1 = time.time()  # Just to have the time\n",
    "xTx = np.zeros((input_dim + 1, input_dim + 1), dtype='float32')\n",
    "xTy = np.zeros((input_dim + 1, output_dim), dtype='float32')\n",
    "xlen = 0\n",
    "\n",
    "for U,D in tqdm(zip(X_train,y_train), desc='Train...', ascii=True, dynamic_ncols=True):\n",
    "    xlen += U.shape[0]\n",
    "    U_exp = np.concatenate((np.ones((U.shape[0],1)),U),1) # add a bias element for better training\n",
    "    xTx += np.dot(U_exp.T, U_exp)\n",
    "    xTy += np.dot(U_exp.T, D)\n",
    "t2 = time.time()"
   ]
  },
  {
   "cell_type": "markdown",
   "id": "whole-region",
   "metadata": {},
   "source": [
    "#### Calulate the regression coefficients"
   ]
  },
  {
   "cell_type": "code",
   "execution_count": 261,
   "id": "intellectual-eligibility",
   "metadata": {},
   "outputs": [],
   "source": [
    "regu = 0.1\n",
    "beta_lin = linreg(xTx, xTy, xlen, regu) # Calulate the regression coefficients"
   ]
  },
  {
   "cell_type": "markdown",
   "id": "spatial-wages",
   "metadata": {},
   "source": [
    "### Show one example of validation"
   ]
  },
  {
   "cell_type": "code",
   "execution_count": 262,
   "id": "later-federation",
   "metadata": {},
   "outputs": [
    {
     "data": {
      "image/png": "[encoded data removed]",
      "text/plain": [
       "<Figure size 720x360 with 2 Axes>"
      ]
     },
     "metadata": {
      "needs_background": "light"
     },
     "output_type": "display_data"
    }
   ],
   "source": [
    "idx = 8\n",
    "U,D = X_valid[idx],y_valid[idx]\n",
    "U_exp = np.concatenate((np.ones((U.shape[0],1)),U),1)\n",
    "y_out = np.dot(U_exp,beta_lin)\n",
    "\n",
    "# Plot the results\n",
    "\n",
    "fig,axs=plt.subplots(ncols=1,nrows=2,figsize=(10,5))\n",
    "axs[0].plot(D,'*')\n",
    "axs[0].legend(['open','half','closed'])\n",
    "\n",
    "axs[1].plot(y_out)\n",
    "_=axs[1].set(ylim=[-0.2,1.2])"
   ]
  },
  {
   "cell_type": "code",
   "execution_count": 252,
   "id": "leading-plate",
   "metadata": {},
   "outputs": [
    {
     "data": {
      "text/plain": [
       "<matplotlib.image.AxesImage at 0x20012eb46e90>"
      ]
     },
     "execution_count": 252,
     "metadata": {},
     "output_type": "execute_result"
    },
    {
     "data": {
      "image/png": "[encoded data removed]",
      "text/plain": [
       "<Figure size 432x288 with 1 Axes>"
      ]
     },
     "metadata": {
      "needs_background": "light"
     },
     "output_type": "display_data"
    }
   ],
   "source": [
    "plt.imshow(X_valid[idx][1300, :].reshape(30, 30), cmap='gray')"
   ]
  },
  {
   "cell_type": "code",
   "execution_count": 111,
   "id": "boring-skill",
   "metadata": {},
   "outputs": [
    {
     "name": "stderr",
     "output_type": "stream",
     "text": [
      "80it [00:04, 17.99it/s]\n",
      "20it [00:01, 18.09it/s]"
     ]
    },
    {
     "name": "stdout",
     "output_type": "stream",
     "text": [
      "Train error rate: 0.422 - Valid error rate: 0.391\n"
     ]
    },
    {
     "name": "stderr",
     "output_type": "stream",
     "text": [
      "\n"
     ]
    }
   ],
   "source": [
    "Err={'train':[0,0],\n",
    "     'valid':[0,0]}\n",
    "\n",
    "for U,D in tqdm(zip(X_train,y_train), dynamic_ncols=True): # Loop over each training sample\n",
    "    \n",
    "    for t in range(U.shape[0]): # Loop over every frame of the current sample\n",
    "        u=U[t:t+1,:]\n",
    "        d=D[t:t+1,:]\n",
    "        \n",
    "        u_exp = np.concatenate((np.ones((u.shape[0],1)),u),1) # Add an extended 1 for bias\n",
    "        y_out_lin = np.dot(u_exp,beta_lin) # Apply regression coeffs to the input\n",
    "        \n",
    "        Err['train'][0]+= np.argmax(y_out_lin)!=np.argmax(d)\n",
    "        Err['train'][1]+=1\n",
    "\n",
    "for U,D in tqdm(zip(X_valid,y_valid), ascii=True, dynamic_ncols=True): # The same as above but for validation\n",
    "    \n",
    "    for t in range(U.shape[0]):\n",
    "        u=U[t:t+1,:]\n",
    "        d=D[t:t+1,:]\n",
    "        \n",
    "        u_exp = np.concatenate((np.ones((u.shape[0],1)),u),1)\n",
    "        y_out_lin = np.dot(u_exp,beta_lin)\n",
    "        Err['valid'][0]+= np.argmax(y_out_lin)!=np.argmax(d)\n",
    "        Err['valid'][1]+=1\n",
    "\n",
    "        \n",
    "        \n",
    "print ('Train error rate: %.3f - Valid error rate: %.3f' % (Err['train'][0]*100/Err['train'][1],Err['valid'][0]*100/Err['valid'][1]))\n"
   ]
  },
  {
   "cell_type": "markdown",
   "id": "signal-cathedral",
   "metadata": {},
   "source": [
    "## Set up RCN parameters and initilize the weights"
   ]
  },
  {
   "cell_type": "code",
   "execution_count": 195,
   "id": "crazy-ivory",
   "metadata": {},
   "outputs": [],
   "source": [
    "insca = 1 # Scaling the input weights W_in\n",
    "bisca = 0 # Scaling the bias weights W_bi\n",
    "spra = 0  # Scaling the recurrent weights W_res\n",
    "leak = 1  # Leakage\n",
    "k_in = 50 # Number of input connections to each reservoir node\n",
    "k_rec= 50 # Number of recurrent connections to each reservoir node\n",
    "res_size = 500 # Reservoir size\n",
    "\n",
    "W_in,W_res,W_bi=init_weights(input_dim,res_size,k_in, k_rec,insca,spra,bisca)"
   ]
  },
  {
   "cell_type": "markdown",
   "id": "binary-family",
   "metadata": {},
   "source": [
    "### Change the RCN parameters and test the Impluse response "
   ]
  },
  {
   "cell_type": "code",
   "execution_count": 269,
   "id": "accurate-street",
   "metadata": {},
   "outputs": [
    {
     "data": {
      "text/plain": [
       "<matplotlib.colorbar.Colorbar at 0x20012d8c3050>"
      ]
     },
     "execution_count": 269,
     "metadata": {},
     "output_type": "execute_result"
    },
    {
     "data": {
      "image/png": "[encoded data removed]",
      "text/plain": [
       "<Figure size 720x360 with 4 Axes>"
      ]
     },
     "metadata": {
      "needs_background": "light"
     },
     "output_type": "display_data"
    }
   ],
   "source": [
    "U=np.zeros((100,900))\n",
    "U[10,:]=1\n",
    "\n",
    "x=res_exe(W_in,W_res,W_bi,leak,U)\n",
    "\n",
    "fig,axs = plt.subplots(ncols=1,nrows=2,figsize=(10,5))\n",
    "a=axs[0].pcolormesh(U.T);fig.colorbar(a,ax=axs[0])\n",
    "b=axs[1].pcolormesh(x[:,1:].T);fig.colorbar(b,ax=axs[1])"
   ]
  },
  {
   "cell_type": "markdown",
   "id": "statewide-collection",
   "metadata": {},
   "source": [
    "#### Collect xTx and xTy"
   ]
  },
  {
   "cell_type": "code",
   "execution_count": 198,
   "id": "oriented-franklin",
   "metadata": {},
   "outputs": [
    {
     "name": "stderr",
     "output_type": "stream",
     "text": [
      "Train...: 80it [00:26,  3.06it/s]\n"
     ]
    }
   ],
   "source": [
    "input_dim = X_train[0].shape[1]\n",
    "output_dim = y_train[0].shape[1]\n",
    "\n",
    "t1 = time.time()  # Just to have the time\n",
    "xTx = np.zeros((res_size + 1, res_size + 1), dtype='float32')\n",
    "xTy = np.zeros((res_size + 1, output_dim), dtype='float32')\n",
    "xlen = 0\n",
    "\n",
    "for U,D in tqdm(zip(X_train,y_train), desc='Train...', ascii=True, dynamic_ncols=True):\n",
    "    xlen += U.shape[0]\n",
    "\n",
    "    x = res_exe(W_in,W_res,W_bi,leak,U)\n",
    "    xTx += np.dot(x.T, x)\n",
    "    xTy += np.dot(x.T, D)\n",
    "t2 = time.time()"
   ]
  },
  {
   "cell_type": "code",
   "execution_count": 199,
   "id": "classical-edition",
   "metadata": {},
   "outputs": [],
   "source": [
    "beta = linreg(xTx, xTy, xlen, regu)"
   ]
  },
  {
   "cell_type": "code",
   "execution_count": 200,
   "id": "desirable-desperate",
   "metadata": {},
   "outputs": [],
   "source": [
    "idx = 8\n",
    "U,D = X_valid[idx],y_valid[idx]\n",
    "x = res_exe(W_in,W_res,W_bi,leak,U)\n",
    "y_out = np.dot(x,beta)"
   ]
  },
  {
   "cell_type": "code",
   "execution_count": 201,
   "id": "hollow-france",
   "metadata": {},
   "outputs": [
    {
     "data": {
      "text/plain": [
       "[(-0.2, 1.2)]"
      ]
     },
     "execution_count": 201,
     "metadata": {},
     "output_type": "execute_result"
    },
    {
     "data": {
      "image/png": "[encoded data removed]",
      "text/plain": [
       "<Figure size 720x360 with 2 Axes>"
      ]
     },
     "metadata": {
      "needs_background": "light"
     },
     "output_type": "display_data"
    }
   ],
   "source": [
    "fig,axs=plt.subplots(ncols=1,nrows=2,figsize=(10,5))\n",
    "axs[0].plot(D,'*')\n",
    "axs[0].legend(['open','half','closed'])\n",
    "\n",
    "axs[1].plot(y_out)\n",
    "axs[1].set(ylim=[-0.2,1.2])"
   ]
  },
  {
   "cell_type": "code",
   "execution_count": 203,
   "id": "standard-armenia",
   "metadata": {},
   "outputs": [
    {
     "name": "stderr",
     "output_type": "stream",
     "text": [
      "80it [00:39,  2.04it/s]\n",
      "20it [00:09,  2.04it/s]"
     ]
    },
    {
     "name": "stdout",
     "output_type": "stream",
     "text": [
      "Train error rate: 0.412 - Valid error rate: 0.386\n"
     ]
    },
    {
     "name": "stderr",
     "output_type": "stream",
     "text": [
      "\n"
     ]
    }
   ],
   "source": [
    "Err={'train':[0,0],\n",
    "     'valid':[0,0]}\n",
    "\n",
    "for U,D in tqdm(zip(X_train,y_train), dynamic_ncols=True):\n",
    "    \n",
    "    for t in range(U.shape[0]):\n",
    "        u=U[t:t+1,:]\n",
    "        d=D[t:t+1,:]\n",
    "        \n",
    "        x = res_exe(W_in,W_res,W_bi,leak,u)\n",
    "        y_out = np.dot(x,beta)\n",
    "        Err['train'][0]+= np.argmax(y_out)!=np.argmax(d)\n",
    "        Err['train'][1]+=1\n",
    "\n",
    "for U,D in tqdm(zip(X_valid,y_valid), ascii=True, dynamic_ncols=True):\n",
    "    \n",
    "    for t in range(U.shape[0]):\n",
    "        u=U[t:t+1,:]\n",
    "        d=D[t:t+1,:]\n",
    "        \n",
    "        x = res_exe(W_in,W_res,W_bi,leak,u)\n",
    "        y_out = np.dot(x,beta)\n",
    "        Err['valid'][0]+= np.argmax(y_out)!=np.argmax(d)\n",
    "        Err['valid'][1]+=1\n",
    "\n",
    "        \n",
    "        \n",
    "print ('Train error rate: %.3f - Valid error rate: %.3f' % (Err['train'][0]*100/Err['train'][1],Err['valid'][0]*100/Err['valid'][1]))\n"
   ]
  },
  {
   "cell_type": "code",
   "execution_count": 230,
   "id": "brown-payday",
   "metadata": {},
   "outputs": [],
   "source": [
    "# Adaptive"
   ]
  },
  {
   "cell_type": "code",
   "execution_count": 231,
   "id": "sudden-listing",
   "metadata": {},
   "outputs": [
    {
     "name": "stderr",
     "output_type": "stream",
     "text": [
      "Train...: 20it [00:06,  3.10it/s]\n"
     ]
    }
   ],
   "source": [
    "for U,D in tqdm(zip(X_valid,y_valid), desc='Train...', ascii=True, dynamic_ncols=True):\n",
    "    xlen += U.shape[0]\n",
    "\n",
    "    x = res_exe(W_in,W_res,W_bi,leak,U)\n",
    "    xTx += np.dot(x.T, x)\n",
    "    xTy += np.dot(x.T, D)\n",
    "    \n",
    "#     beta = linreg(xTx, xTy, xlen, regu)\n",
    "t2 = time.time()"
   ]
  },
  {
   "cell_type": "code",
   "execution_count": 234,
   "id": "specialized-biotechnology",
   "metadata": {},
   "outputs": [],
   "source": [
    "beta = linreg(xTx, xTy, xlen, regu)"
   ]
  },
  {
   "cell_type": "code",
   "execution_count": 233,
   "id": "integral-capability",
   "metadata": {},
   "outputs": [
    {
     "name": "stderr",
     "output_type": "stream",
     "text": [
      "80it [00:30,  2.62it/s]\n",
      "20it [00:07,  2.52it/s]"
     ]
    },
    {
     "name": "stdout",
     "output_type": "stream",
     "text": [
      "Train error rate: 0.306 - Valid error rate: 0.288\n"
     ]
    },
    {
     "name": "stderr",
     "output_type": "stream",
     "text": [
      "\n"
     ]
    }
   ],
   "source": [
    "Err={'train':[0,0],\n",
    "     'valid':[0,0]}\n",
    "\n",
    "for U,D in tqdm(zip(X_train,y_train), dynamic_ncols=True):\n",
    "    \n",
    "    for t in range(U.shape[0]):\n",
    "        u=U[t:t+1,:]\n",
    "        d=D[t:t+1,:]\n",
    "        \n",
    "        x = res_exe(W_in,W_res,W_bi,leak,u)\n",
    "        y_out = np.dot(x,beta)\n",
    "        Err['train'][0]+= np.argmax(y_out)!=np.argmax(d)\n",
    "        Err['train'][1]+=1\n",
    "\n",
    "for U,D in tqdm(zip(X_valid,y_valid), ascii=True, dynamic_ncols=True):\n",
    "    \n",
    "    for t in range(U.shape[0]):\n",
    "        u=U[t:t+1,:]\n",
    "        d=D[t:t+1,:]\n",
    "        \n",
    "        x = res_exe(W_in,W_res,W_bi,leak,u)\n",
    "        y_out = np.dot(x,beta)\n",
    "        Err['valid'][0]+= np.argmax(y_out)!=np.argmax(d)\n",
    "        Err['valid'][1]+=1\n",
    "\n",
    "        \n",
    "        \n",
    "print ('Train error rate: %.3f - Valid error rate: %.3f' % (Err['train'][0]*100/Err['train'][1],Err['valid'][0]*100/Err['valid'][1]))\n"
   ]
  }
 ],
 "metadata": {
  "kernelspec": {
   "display_name": "Python 3",
   "language": "python",
   "name": "python3"
  },
  "language_info": {
   "codemirror_mode": {
    "name": "ipython",
    "version": 3
   },
   "file_extension": ".py",
   "mimetype": "text/x-python",
   "name": "python",
   "nbconvert_exporter": "python",
   "pygments_lexer": "ipython3",
   "version": "3.7.10"
  }
 },
 "nbformat": 4,
 "nbformat_minor": 5
}
